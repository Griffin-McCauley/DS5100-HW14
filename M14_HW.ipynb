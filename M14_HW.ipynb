{
 "cells": [
  {
   "cell_type": "markdown",
   "id": "bbea800c-241d-42b4-a744-ecaffe13959e",
   "metadata": {},
   "source": [
    "# Metadata\n",
    "\n",
    "```yaml\n",
    "Course:  DS 5100\n",
    "Module:  14 Python Packages\n",
    "Topic:   HW Package Booklover\n",
    "Author:  R.C. Alvarado\n",
    "Date:    11 July 2022\n",
    "```"
   ]
  },
  {
   "cell_type": "markdown",
   "id": "31c46810-4227-4657-8b67-29c43de618ea",
   "metadata": {},
   "source": [
    "# Student Metadata\n",
    "\n",
    "* Name: Griffin McCauley\n",
    "* NetID: kzj5qw"
   ]
  },
  {
   "cell_type": "markdown",
   "id": "1baf08dc-35fe-44f1-bc26-7e1130ee993e",
   "metadata": {},
   "source": [
    "# Instructions\n",
    "\n",
    "Follow the recipe we used in class to package the code you wrote for `HW09` -- `booklover.py` and `booklover_test.py`.\n",
    "\n",
    "Here is the recipe:\n",
    "* Create a new git repo for your package.\n",
    "* Create and edit the required files and directories for your package and move the booklover modules there.\n",
    "* Stage, commit, and push all the files you've created.\n",
    "* Install your package with pip.\n",
    "* Outside of your package dir, write a script to test your method.\n",
    "\n",
    "Put this notebook in your repo. This will allow you to execute bash commands and capture the output directly in the notebook.\n",
    "\n",
    "**TOTAL: 8 POINTS**"
   ]
  },
  {
   "cell_type": "markdown",
   "id": "6e39ba79-49ee-41e8-9e49-23d9d6bac2e0",
   "metadata": {
    "tags": []
   },
   "source": [
    "# Q1\n",
    "\n",
    "(5 points)\n",
    "\n",
    "Show the directory structure of your repo by running this command from the root of your repo:"
   ]
  },
  {
   "cell_type": "code",
   "execution_count": 1,
   "id": "7e6c6607",
   "metadata": {},
   "outputs": [
    {
     "name": "stdout",
     "output_type": "stream",
     "text": [
      "total 40\n",
      "-rw-r--r--  1 griffinmccauley  staff  1073 Jul 11 15:02 LICENSE\n",
      "-rw-r--r--  1 griffinmccauley  staff  7430 Jul 11 15:22 M14_HW.ipynb\n",
      "-rw-r--r--  1 griffinmccauley  staff    79 Jul 11 15:02 README.md\n",
      "drwxr-xr-x  6 griffinmccauley  staff   192 Jul 11 15:23 \u001b[34mhw14\u001b[m\u001b[m\n",
      "-rw-r--r--  1 griffinmccauley  staff   316 Jul 11 15:13 setup.py\n",
      "\n",
      "./hw14:\n",
      "total 16\n",
      "-rw-r--r--  1 griffinmccauley  staff    41 Jul 11 15:02 __init__.py\n",
      "-rw-r--r--  1 griffinmccauley  staff  1124 Jul 11 15:02 booklover.py\n",
      "drwxr-xr-x  5 griffinmccauley  staff   160 Jul 11 15:21 \u001b[34mtest\u001b[m\u001b[m\n",
      "\n",
      "./hw14/test:\n",
      "total 8\n",
      "-rw-r--r--  1 griffinmccauley  staff     0 Jul 11 15:20 __init__.py\n",
      "-rw-r--r--  1 griffinmccauley  staff  2954 Jul 11 15:13 booklover_test.py\n"
     ]
    }
   ],
   "source": [
    "!ls -lR"
   ]
  },
  {
   "cell_type": "markdown",
   "id": "6b6f288b-05aa-441b-8c73-84b50b3b6844",
   "metadata": {},
   "source": [
    "# Q2\n",
    "\n",
    "(1 point)\n",
    "\n",
    "Put the URL of your GitHub repo here. Just paste it into a Markdown cell."
   ]
  },
  {
   "cell_type": "markdown",
   "id": "4d09d889-6104-4f20-b31c-2d8a72b17693",
   "metadata": {},
   "source": [
    "URL: https://github.com/Griffin-McCauley/DS5100-HW14"
   ]
  },
  {
   "cell_type": "markdown",
   "id": "f989dcd1-b1d2-4eb9-8ef6-8ca2d8495260",
   "metadata": {
    "lines_to_next_cell": 0
   },
   "source": [
    "# Q3\n",
    "\n",
    "(1 point)\n",
    "\n",
    "Show the results of installing your package.\n",
    "\n",
    "```bash\n",
    "!pip install -e .\n",
    "```"
   ]
  },
  {
   "cell_type": "code",
   "execution_count": 2,
   "id": "73794620-5ff5-4bec-a685-742f517e4a57",
   "metadata": {},
   "outputs": [
    {
     "name": "stdout",
     "output_type": "stream",
     "text": [
      "Obtaining file:///Users/griffinmccauley/Documents/MSDS/DS5100/DS5100-HW14\n",
      "Installing collected packages: HW-14-Python-Packages\n",
      "  Running setup.py develop for HW-14-Python-Packages\n",
      "Successfully installed HW-14-Python-Packages-1.0.0\n"
     ]
    }
   ],
   "source": [
    "!pip install -e ."
   ]
  },
  {
   "cell_type": "markdown",
   "id": "5b1a642e-74f0-43ff-97a3-9ddc7553978e",
   "metadata": {},
   "source": [
    "# Q4\n",
    "\n",
    "(1 point)\n",
    "\n",
    "Create a file outside your repo (one level up) to test your package.\n",
    "\n",
    "Import the package and run it. Specifically, create a BookLover object, add a book, and then print number books read.\n",
    "\n",
    "Show the output of running the file below, using a command like the following:\n",
    "\n",
    "```bash\n",
    "!python ../book_lover_demo.py\n",
    "```"
   ]
  },
  {
   "cell_type": "code",
   "execution_count": 3,
   "id": "ebada07e-e5f1-41ea-8d1d-2640f10d294d",
   "metadata": {},
   "outputs": [
    {
     "name": "stdout",
     "output_type": "stream",
     "text": [
      "Welcome to the booklover module.\n",
      "1\n"
     ]
    }
   ],
   "source": [
    "!python3 ../book_lover_demo.py"
   ]
  },
  {
   "cell_type": "markdown",
   "id": "d1622546-11ea-4468-989b-7718a4101148",
   "metadata": {},
   "source": [
    "Here is the code inside book_lover_demo.py:\n",
    "\n",
    "from hw14.booklover import BookLover\n",
    "\n",
    "bibliophile = BookLover('Griffin','kzj5qw@virginia.edu','Science Fiction')\n",
    "\n",
    "bibliophile.add_book('Jurassic Park', 3)\n",
    "\n",
    "print(bibliophile.num_books_read())"
   ]
  }
 ],
 "metadata": {
  "jupytext": {
   "cell_metadata_filter": "-all",
   "main_language": "bash",
   "notebook_metadata_filter": "-all"
  },
  "kernelspec": {
   "display_name": "Python 3 (ipykernel)",
   "language": "python",
   "name": "python3"
  },
  "language_info": {
   "codemirror_mode": {
    "name": "ipython",
    "version": 3
   },
   "file_extension": ".py",
   "mimetype": "text/x-python",
   "name": "python",
   "nbconvert_exporter": "python",
   "pygments_lexer": "ipython3",
   "version": "3.9.12"
  },
  "widgets": {
   "application/vnd.jupyter.widget-state+json": {
    "state": {},
    "version_major": 2,
    "version_minor": 0
   }
  }
 },
 "nbformat": 4,
 "nbformat_minor": 5
}
